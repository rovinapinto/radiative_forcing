{
 "cells": [
  {
   "cell_type": "markdown",
   "metadata": {},
   "source": [
    "## Calculate the forcing at the top of the atmosphere(TOA) due to anthropogenic aerosols\n",
    "### Data used: MPI-ESM1.2"
   ]
  },
  {
   "cell_type": "markdown",
   "metadata": {
    "ExecuteTime": {
     "end_time": "2020-09-02T20:30:55.923537Z",
     "start_time": "2020-09-02T20:30:55.920349Z"
    }
   },
   "source": [
    "## Initialize data"
   ]
  },
  {
   "cell_type": "code",
   "execution_count": 1,
   "metadata": {
    "ExecuteTime": {
     "end_time": "2020-09-16T21:50:18.569741Z",
     "start_time": "2020-09-16T21:50:18.069367Z"
    }
   },
   "outputs": [],
   "source": [
    "import numpy as np\n",
    "import matplotlib.pyplot as plt \n",
    "import matplotlib.colors as mcolors\n",
    "from matplotlib.colors import from_levels_and_colors\n",
    "import cartopy.crs as ccrs\n",
    "from cartopy.util import add_cyclic_point\n",
    "import sys\n",
    "sys.path.append('../scripts')\n",
    "from forcing_MPI_ESM1_2 import RadiativeFluxData\n",
    "\n",
    "%matplotlib inline"
   ]
  },
  {
   "cell_type": "code",
   "execution_count": 2,
   "metadata": {
    "ExecuteTime": {
     "end_time": "2020-09-16T21:50:19.443009Z",
     "start_time": "2020-09-16T21:50:19.273584Z"
    }
   },
   "outputs": [
    {
     "ename": "FileNotFoundError",
     "evalue": "[Errno 2] No such file or directory: b'/home/rovina/KlimaData/aero/CMIP6/RFMIP/piClim-spAer-aer/rsdt/rsdt_Amon_MPI-ESM1-2-LR_piClim-spAer-aer_r1i1p1f1_gn_184901-187912.nc'",
     "output_type": "error",
     "traceback": [
      "\u001b[0;31m---------------------------------------------------------------------------\u001b[0m",
      "\u001b[0;31mFileNotFoundError\u001b[0m                         Traceback (most recent call last)",
      "\u001b[0;32m<ipython-input-2-27d47673f9c0>\u001b[0m in \u001b[0;36m<module>\u001b[0;34m\u001b[0m\n\u001b[1;32m      4\u001b[0m     \u001b[0;31m# create RadiativeFluxData class\u001b[0m\u001b[0;34m\u001b[0m\u001b[0;34m\u001b[0m\u001b[0;34m\u001b[0m\u001b[0m\n\u001b[1;32m      5\u001b[0m     \u001b[0mRFD\u001b[0m \u001b[0;34m=\u001b[0m \u001b[0mRadiativeFluxData\u001b[0m\u001b[0;34m(\u001b[0m\u001b[0;34m)\u001b[0m\u001b[0;34m\u001b[0m\u001b[0;34m\u001b[0m\u001b[0m\n\u001b[0;32m----> 6\u001b[0;31m     \u001b[0mRFD\u001b[0m\u001b[0;34m.\u001b[0m\u001b[0mread\u001b[0m\u001b[0;34m(\u001b[0m\u001b[0;34m)\u001b[0m\u001b[0;34m\u001b[0m\u001b[0;34m\u001b[0m\u001b[0m\n\u001b[0m",
      "\u001b[0;32m~/Downloads/met-work/radiative_forcing/scripts/forcing_MPI_ESM1_2.py\u001b[0m in \u001b[0;36mread\u001b[0;34m(self, path, read_metadata)\u001b[0m\n\u001b[1;32m     69\u001b[0m \u001b[0;34m\u001b[0m\u001b[0m\n\u001b[1;32m     70\u001b[0m         \u001b[0;31m# read experiment\u001b[0m\u001b[0;34m\u001b[0m\u001b[0;34m\u001b[0m\u001b[0;34m\u001b[0m\u001b[0m\n\u001b[0;32m---> 71\u001b[0;31m         \u001b[0;32mwith\u001b[0m \u001b[0mDataset\u001b[0m\u001b[0;34m(\u001b[0m\u001b[0mfile_rsdt_aer1\u001b[0m\u001b[0;34m)\u001b[0m \u001b[0;32mas\u001b[0m \u001b[0mnc\u001b[0m\u001b[0;34m:\u001b[0m\u001b[0;34m\u001b[0m\u001b[0;34m\u001b[0m\u001b[0m\n\u001b[0m\u001b[1;32m     72\u001b[0m \u001b[0;34m\u001b[0m\u001b[0m\n\u001b[1;32m     73\u001b[0m             \u001b[0mself\u001b[0m\u001b[0;34m.\u001b[0m\u001b[0mrsdt_aer1\u001b[0m \u001b[0;34m=\u001b[0m \u001b[0mnc\u001b[0m\u001b[0;34m.\u001b[0m\u001b[0mvariables\u001b[0m\u001b[0;34m[\u001b[0m\u001b[0;34m'rsdt'\u001b[0m\u001b[0;34m]\u001b[0m\u001b[0;34m[\u001b[0m\u001b[0;34m:\u001b[0m\u001b[0;34m]\u001b[0m\u001b[0;34m\u001b[0m\u001b[0;34m\u001b[0m\u001b[0m\n",
      "\u001b[0;32mnetCDF4/_netCDF4.pyx\u001b[0m in \u001b[0;36mnetCDF4._netCDF4.Dataset.__init__\u001b[0;34m()\u001b[0m\n",
      "\u001b[0;32mnetCDF4/_netCDF4.pyx\u001b[0m in \u001b[0;36mnetCDF4._netCDF4._ensure_nc_success\u001b[0;34m()\u001b[0m\n",
      "\u001b[0;31mFileNotFoundError\u001b[0m: [Errno 2] No such file or directory: b'/home/rovina/KlimaData/aero/CMIP6/RFMIP/piClim-spAer-aer/rsdt/rsdt_Amon_MPI-ESM1-2-LR_piClim-spAer-aer_r1i1p1f1_gn_184901-187912.nc'"
     ]
    }
   ],
   "source": [
    "# Load netcdf data\n",
    "if __name__ == '__main__':\n",
    "\n",
    "    # create RadiativeFluxData class\n",
    "    RFD = RadiativeFluxData()\n",
    "    RFD.read()"
   ]
  },
  {
   "cell_type": "markdown",
   "metadata": {},
   "source": [
    "## Compute radiative balance and forcing at toa"
   ]
  },
  {
   "cell_type": "markdown",
   "metadata": {},
   "source": [
    "### using only shortwave fluxes"
   ]
  },
  {
   "cell_type": "code",
   "execution_count": null,
   "metadata": {
    "ExecuteTime": {
     "end_time": "2020-09-02T20:41:23.919543Z",
     "start_time": "2020-09-02T20:41:23.718649Z"
    }
   },
   "outputs": [],
   "source": [
    "sw_balance_aer = RFD.rsdt_aer - RFD.rsut_aer #difference between energy absorbed and radiated back; sim with anthro aerosols\n",
    "sw_balance_control = RFD.rsdt_c - RFD.rsut_c  #control- without anthro aerosols\n",
    "\n",
    "sw_forcing_toa = -sw_balance_control + sw_balance_aer "
   ]
  },
  {
   "cell_type": "markdown",
   "metadata": {},
   "source": [
    "### using shortwave fluxes and outgoing longwave flux at toa"
   ]
  },
  {
   "cell_type": "code",
   "execution_count": null,
   "metadata": {
    "ExecuteTime": {
     "end_time": "2020-09-02T20:41:27.224145Z",
     "start_time": "2020-09-02T20:41:27.002502Z"
    }
   },
   "outputs": [],
   "source": [
    "balance_aer = RFD.rsdt_aer - RFD.rsut_aer - RFD.rlut_aer #difference between energy absorbed and radiated back; sim with anthro aerosols\n",
    "balance_control = RFD.rsdt_c - RFD.rsut_c - RFD.rlut_c  #control- without anthro aerosols\n",
    "\n",
    "forcing_toa = -balance_control + balance_aer "
   ]
  },
  {
   "cell_type": "markdown",
   "metadata": {
    "ExecuteTime": {
     "end_time": "2020-09-02T20:33:56.453740Z",
     "start_time": "2020-09-02T20:33:56.449738Z"
    }
   },
   "source": [
    "## Setup for plot colours and levels"
   ]
  },
  {
   "cell_type": "code",
   "execution_count": null,
   "metadata": {
    "ExecuteTime": {
     "end_time": "2020-09-02T20:41:29.318327Z",
     "start_time": "2020-09-02T20:41:29.313322Z"
    }
   },
   "outputs": [],
   "source": [
    "# define a colorbar to control the gradient of colours in asymmetric colourbar and introduce white colour for zero values.\n",
    "# matplotlib colorbar does not represent the actual weighting of the values in the colourbar given the asymmetry so use absolute values\n",
    "\n",
    "levels = [-12, -10, -8, -6, -4, -2, -0.5, 0.5, 2, 4] \n",
    "colors = ['#053061','#1e61a5','#3d8bbf','#7cb7d7','#bad9e9','#e6eff4','white',  '#fae7dc','#f7b799']\n",
    "\n",
    "levels1 = [-10, -8, -6, -4, -2, -0.5, 0.5, 2] \n",
    "colors1 = ['#1e61a5','#3d8bbf','#7cb7d7','#bad9e9','#e6eff4','white',  '#fae7dc']\n",
    "\n",
    "levels3 = [ -4.5, -3,-1.5, -0.5, 0.5, 1.5, 3, 4.5] \n",
    "colors3 = ['#7cb7d7','#bad9e9','#e6eff4','white',  '#fae7dc','#f7b799', '#f5a987']\n",
    "\n",
    "#adjust colours and levels and ticks as follows:\n",
    "#ax.contourf(colors=colors, levels=levels)\n",
    "#plt.colorbar(ticks=range(start,stop,step)) eg. range(-14,4,2)"
   ]
  },
  {
   "cell_type": "code",
   "execution_count": null,
   "metadata": {
    "ExecuteTime": {
     "end_time": "2020-09-02T20:41:30.584326Z",
     "start_time": "2020-09-02T20:41:30.558697Z"
    }
   },
   "outputs": [],
   "source": [
    "#Obtaining the colours from RdBu_r to use in the code above. From: https://stackoverflow.com/questions/33596491/extract-matplotlib-colormap-in-hex-format\n",
    "from pylab import *\n",
    "\n",
    "cmap = cm.get_cmap('RdBu_r', 14)    # PiYG\n",
    "\n",
    "for i in range(cmap.N):\n",
    "    rgb = cmap(i)[:3] # will return rgba, we take only first 3 so we get rgb\n",
    "    print(matplotlib.colors.rgb2hex(rgb))"
   ]
  },
  {
   "cell_type": "code",
   "execution_count": null,
   "metadata": {
    "ExecuteTime": {
     "end_time": "2020-09-02T20:41:32.978580Z",
     "start_time": "2020-09-02T20:41:32.973065Z"
    }
   },
   "outputs": [],
   "source": [
    "# Notes: add_cyclic_point throws out an error due to continuous mapping of the longitude each time it's used. \n",
    "# And so does the TwoSlopeNorm or the diverging Norm\n",
    "# Hack: re-run class code to load the data each time before plotting a new map or correcting the colorbar\n",
    "# ^still bloody annoying. Need to fix asap\n",
    "\n",
    "# contourf renders the colourbar into discrete ranges. Can I get a continuos range instead?"
   ]
  },
  {
   "cell_type": "markdown",
   "metadata": {},
   "source": [
    "## Visualization\n",
    "\n",
    "###  Radiative balance at TOA "
   ]
  },
  {
   "cell_type": "code",
   "execution_count": null,
   "metadata": {
    "ExecuteTime": {
     "end_time": "2020-09-02T20:41:57.348542Z",
     "start_time": "2020-09-02T20:41:55.227846Z"
    }
   },
   "outputs": [],
   "source": [
    "# Visualize simulated global historical data without anthropogenic aerosols\n",
    "fig = plt.figure(figsize=(9,7))\n",
    "ax = fig.add_subplot(1,1,1,projection=ccrs.Mollweide()) #central_longitude=160\n",
    "ax.set_global()\n",
    "ax.coastlines()\n",
    "balance_control, RFD.lon = add_cyclic_point(balance_control, coord=RFD.lon) #removes white longitutdinal line at centre\n",
    "cs = ax.contourf(RFD.lon,RFD.lat,np.mean(balance_control,axis=0), transform=ccrs.PlateCarree(),cmap='coolwarm')\n",
    "plt.colorbar(cs,shrink=0.8, fraction=0.046, pad=0.04, extendrect=True, label=r\"$\\mathrm{Wm}^{-2}$\", orientation='horizontal')\n",
    "plt.title(\"Radiative Balance at TOA (without Aerosols)\", loc='left', fontsize=12)\n",
    "plt.show()\n",
    "plt.savefig(\"bal_control_TOA_MPI-ESM1-2.pdf\", bbox_inches='tight', transparent=True)"
   ]
  },
  {
   "cell_type": "code",
   "execution_count": null,
   "metadata": {},
   "outputs": [],
   "source": [
    "# Visualize simulated global historical data with anthropogenic aerosols\n",
    "fig = plt.figure(figsize=(9,7))\n",
    "ax1 = fig.add_subplot(1,1,1,projection=ccrs.Mollweide())\n",
    "ax1.set_global()\n",
    "ax1.coastlines()\n",
    "balance_aer, RFD.lon = add_cyclic_point(balance_aer, coord=RFD.lon) #removes white longitutdinal line at centre\n",
    "cs1 = ax1.contourf(RFD.lon,RFD.lat, np.mean(balance_aer,axis=0), transform=ccrs.PlateCarree(),cmap='coolwarm')\n",
    "plt.colorbar(cs1, shrink=0.8, fraction=0.046, pad=0.04, extendrect=True, label=r\"$\\mathrm{Wm}^{-2}$\", orientation='horizontal')\n",
    "plt.title(\"Radiative Balance at TOA (with Aerosols)\", loc='left', fontsize=12)\n",
    "plt.savefig(\"bal_Aer_TOA_MPI-ESM1-2.pdf\", bbox_inches='tight', transparent=True)"
   ]
  },
  {
   "cell_type": "markdown",
   "metadata": {},
   "source": [
    "### Radiative forcing at TOA"
   ]
  },
  {
   "cell_type": "code",
   "execution_count": null,
   "metadata": {},
   "outputs": [],
   "source": [
    "#Visualize radiaitve forcing at TOA with longwave radiation\n",
    "vmax = np.max(np.mean(forcing_toa,axis=0))\n",
    "vmin = np.min(np.mean(forcing_toa,axis=0))\n",
    "v_ext = np.max( [ np.abs(vmin), np.abs(vmax) ] ) #for representative intensity at boundary values for diverging colormaps\n",
    "norm = mcolors.TwoSlopeNorm(vmin=-v_ext, vmax = v_ext, vcenter=0) #push zero as mid point of red and blue\n",
    "N = 9\n",
    "fig = plt.figure(figsize=(9,7))\n",
    "ax = fig.add_subplot(1,1,1,projection=ccrs.Mollweide())\n",
    "ax.set_global()\n",
    "ax.coastlines()\n",
    "forcing_toa, RFD.lon = add_cyclic_point(forcing_toa, coord=RFD.lon) #removes white longitutdinal line at centre\n",
    "cs = ax.contourf(RFD.lon,RFD.lat,np.mean(forcing_toa,axis=0),norm=norm, transform=ccrs.PlateCarree(), colors=colors1,levels=levels1)\n",
    "plt.colorbar(cs, shrink=0.8, fraction=0.046, pad=0.04, extendrect=True, label=r\"$\\mathrm{Wm}^{-2}$\", orientation='horizontal', ticks=[-10, -8, -6, -4, -2, 0, 2])\n",
    "plt.title(\"Radiative Forcing at TOA\", loc='left', fontsize = 12)\n",
    "plt.savefig(\"forcing_TOA_MPI-ESM1-2.pdf\", bbox_inches='tight', transparent=True)"
   ]
  },
  {
   "cell_type": "markdown",
   "metadata": {},
   "source": [
    "### Radiative forcing with only shortwave radiation"
   ]
  },
  {
   "cell_type": "code",
   "execution_count": null,
   "metadata": {},
   "outputs": [],
   "source": [
    "vmax = np.max(np.mean(sw_forcing_toa,axis=0))\n",
    "vmin = np.min(np.mean(sw_forcing_toa,axis=0))\n",
    "v_ext = np.max( [ np.abs(vmin), np.abs(vmax) ] )\n",
    "norm = mcolors.TwoSlopeNorm(vmin=-v_ext, vmax = v_ext, vcenter=0) #set zero value to white colour\n",
    "\n",
    "fig = plt.figure(figsize=(9,7))\n",
    "ax = fig.add_subplot(1,1,1,projection=ccrs.Mollweide())\n",
    "ax.set_global()\n",
    "ax.coastlines()\n",
    "sw_forcing_toa, RFD.lon = add_cyclic_point(sw_forcing_toa, coord=RFD.lon) #removes white longitutdinal line at centre\n",
    "contour_map =  ax.contourf(RFD.lon,RFD.lat,np.mean(sw_forcing_toa,axis=0),transform=ccrs.PlateCarree(),norm=norm, colors=colors,levels=levels)\n",
    "plt.colorbar(contour_map, shrink=0.8, fraction=0.046, pad=0.04, label=r\"$\\mathrm{Wm}^{-2}$\", orientation='horizontal', ticks=[-10, -8, -6, -4, -2, 0, 2])\n",
    "plt.title(\"Radiative Forcing at TOA\", loc='left', fontsize = 12)\n",
    "plt.savefig(\"sw_forcing_TOA_MPI-ESM1-2.pdf\", bbox_inches='tight', transparent=True)"
   ]
  },
  {
   "cell_type": "markdown",
   "metadata": {},
   "source": [
    "### Difference between the two forcings"
   ]
  },
  {
   "cell_type": "code",
   "execution_count": null,
   "metadata": {},
   "outputs": [],
   "source": [
    "diff_forcing_toa = forcing_toa - sw_forcing_toa \n",
    "\n",
    "vmax = np.max(np.mean(diff_forcing_toa,axis=0))\n",
    "vmin = np.min(np.mean(diff_forcing_toa,axis=0))\n",
    "v_ext = np.max( [ np.abs(vmin), np.abs(vmax) ] )\n",
    "norm = mcolors.TwoSlopeNorm(vmin=-v_ext, vmax = v_ext, vcenter=0) \n",
    "\n",
    "fig = plt.figure(figsize=(9,7))\n",
    "ax = fig.add_subplot(1,1,1,projection=ccrs.Mollweide())\n",
    "ax.set_global()\n",
    "ax.coastlines()\n",
    "diff_forcing_toa, RFD.lon = add_cyclic_point(diff_forcing_toa, coord=RFD.lon) #removes white longitutdinal line at centre\n",
    "\n",
    "cs = ax.contourf(RFD.lon,RFD.lat,np.mean(diff_forcing_toa,axis=0), transform=ccrs.PlateCarree(), norm=norm, colors=colors3,levels=levels3)\n",
    "plt.colorbar(cs, shrink=0.8, fraction=0.046, pad=0.04, extendrect=True, label=r\"$\\mathrm{Wm}^{-2}$\", orientation='horizontal', ticks=[ -4.5,-3, -1.5, 0, 1.5,3, 4.5])\n",
    "plt.title(\"Difference in Radiative Forcing at TOA\", loc='left', fontsize = 12)\n",
    "plt.savefig(\"diff_forcing_TOA_MPI-ESM1-2.pdf\", bbox_inches='tight', transparent=True)"
   ]
  },
  {
   "cell_type": "code",
   "execution_count": null,
   "metadata": {},
   "outputs": [],
   "source": [
    "sw_forcing_toa"
   ]
  }
 ],
 "metadata": {
  "kernelspec": {
   "display_name": "Python 3",
   "language": "python",
   "name": "python3"
  },
  "language_info": {
   "codemirror_mode": {
    "name": "ipython",
    "version": 3
   },
   "file_extension": ".py",
   "mimetype": "text/x-python",
   "name": "python",
   "nbconvert_exporter": "python",
   "pygments_lexer": "ipython3",
   "version": "3.8.3"
  },
  "toc": {
   "base_numbering": 1,
   "nav_menu": {},
   "number_sections": true,
   "sideBar": true,
   "skip_h1_title": false,
   "title_cell": "Table of Contents",
   "title_sidebar": "Contents",
   "toc_cell": false,
   "toc_position": {},
   "toc_section_display": true,
   "toc_window_display": false
  },
  "varInspector": {
   "cols": {
    "lenName": 16,
    "lenType": 16,
    "lenVar": 40
   },
   "kernels_config": {
    "python": {
     "delete_cmd_postfix": "",
     "delete_cmd_prefix": "del ",
     "library": "var_list.py",
     "varRefreshCmd": "print(var_dic_list())"
    },
    "r": {
     "delete_cmd_postfix": ") ",
     "delete_cmd_prefix": "rm(",
     "library": "var_list.r",
     "varRefreshCmd": "cat(var_dic_list()) "
    }
   },
   "oldHeight": 122.85,
   "position": {
    "height": "144.85px",
    "left": "1152px",
    "right": "20px",
    "top": "120px",
    "width": "194px"
   },
   "types_to_exclude": [
    "module",
    "function",
    "builtin_function_or_method",
    "instance",
    "_Feature"
   ],
   "varInspector_section_display": "block",
   "window_display": false
  }
 },
 "nbformat": 4,
 "nbformat_minor": 4
}
